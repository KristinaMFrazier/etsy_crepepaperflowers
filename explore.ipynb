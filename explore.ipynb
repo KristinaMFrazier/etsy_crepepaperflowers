{
 "cells": [
  {
   "cell_type": "markdown",
   "metadata": {},
   "source": [
    "# Exploring the Etsy Crepe Paper Flower Market"
   ]
  },
  {
   "cell_type": "code",
   "execution_count": 1,
   "metadata": {},
   "outputs": [],
   "source": [
    "import pandas as pd\n",
    "import numpy as np"
   ]
  },
  {
   "cell_type": "code",
   "execution_count": 2,
   "metadata": {},
   "outputs": [],
   "source": [
    "listings_main = pd.read_csv('nov_2020/listings_main.csv')\n",
    "listings_materials = pd.read_csv('nov_2020/listings_materials.csv')\n",
    "listings_style = pd.read_csv('nov_2020/listings_style.csv')\n",
    "listings_tags = pd.read_csv('nov_2020/listings_tags.csv')\n",
    "listings_taxonomy = pd.read_csv('nov_2020/listings_taxonomy.csv')"
   ]
  },
  {
   "cell_type": "markdown",
   "metadata": {},
   "source": [
    "## Exploration Outline\n",
    "\n",
    "**Product Type Distribution**\n",
    "- Proportion of wedding and non-wedding products\n",
    "- Proportion of pre-made and made-to-order products\n",
    "- Proportion of combination of above-mentioned attributes\n",
    "\n",
    "\n",
    "**Price Distribution**\n",
    " - Price distribution of all products; median price\n",
    " - Price distributions wedding and non-wedding products, median price of both\n",
    " - Price distribution of pre-made and made-to-order products, median price of both\n",
    " - Price distribution of combination of above-mentioned attributes, median prices of all\n",
    " \n",
    " \n",
    "**Listing Trends**\n",
    "- Top five materials; Distribution of top 10 materials\n",
    "- Top five styles; Distribution of top 10 styles\n",
    "- Top five tags; Distribution of top 10 tags\n",
    "- Top five taxonomies; Distribution of top 10 taxonomies\n",
    "- Correlation of taxonomies and price; multivariate with wedding attributes\n",
    "- Correlation of styles and price; multivariate with wedding attributes\n",
    "\n",
    "\n",
    "**Inference**\n",
    "- Null: The median price of wedding products is equal to that of non-wedding products\n",
    "- Null: The median price of made-to-order products is equal to that of pre-made products\n",
    "- Regression: variables that inform price (wedding, preparation, taxonomy_path, style)\n",
    "\n",
    "\n",
    "**Insights**\n",
    "- What is the overall range of prices for these types of products and what are the most popular uses and styles?\n",
    "- What are the rankings of median price of products by wedding or preparation type? Are these prices actually different and not a function of the sample size?\n",
    "- What other variables are related to price? (from regression analysis & correlation)"
   ]
  },
  {
   "cell_type": "code",
   "execution_count": null,
   "metadata": {},
   "outputs": [],
   "source": []
  }
 ],
 "metadata": {
  "kernelspec": {
   "display_name": "Python 3",
   "language": "python",
   "name": "python3"
  },
  "language_info": {
   "codemirror_mode": {
    "name": "ipython",
    "version": 3
   },
   "file_extension": ".py",
   "mimetype": "text/x-python",
   "name": "python",
   "nbconvert_exporter": "python",
   "pygments_lexer": "ipython3",
   "version": "3.7.7"
  }
 },
 "nbformat": 4,
 "nbformat_minor": 4
}
