{
 "cells": [
  {
   "cell_type": "markdown",
   "metadata": {},
   "source": [
    "# Etsy Dataset\n",
    "\n",
    "The cleaning steps in this notebook are motivated by the following planned analysis questions:\n",
    "   - Most popular occasions\n",
    "   - Median price of products (non-wedding products vs. wedding products)\n",
    "   - Most frequent product type (single-stems or bouquets)\n",
    "   - Most frequent product type (non-wedding products vs. wedding products)\n",
    "   - Most and least popular tags\n",
    "   - Distribution of quantities (one-of-a-kind vs. multiples)\n",
    "   - Percentage of made-to-order products vs. pre-made\n",
    "   - Most and least popular intended recipients\n",
    "   - Most and least popular occasions\n",
    "   - Most popular styles"
   ]
  },
  {
   "cell_type": "markdown",
   "metadata": {},
   "source": [
    "## Load"
   ]
  },
  {
   "cell_type": "code",
   "execution_count": 1,
   "metadata": {},
   "outputs": [],
   "source": [
    "# load all data into a data frame\n",
    "import numpy as np\n",
    "import pandas as pd\n",
    "import matplotlib.pyplot as plt\n",
    "%matplotlib inline  \n"
   ]
  },
  {
   "cell_type": "code",
   "execution_count": 2,
   "metadata": {},
   "outputs": [],
   "source": [
    "# Load Data\n",
    "full_dataset = \"/Users/kristinafrazier/documents/projects/etsy/data/nov_2020/all_etsy_listings_raw.csv\"\n",
    "\n",
    "# Preliminary cleaning from previous analysis\n",
    "converters = {\"tags\": lambda x: x.strip(\"[]\").replace(\"'\",\"\").split(\", \"),\"materials\": lambda x: x.strip(\"[]\").replace(\"'\",\"\").split(\", \")}\n",
    "data = pd.read_csv(full_dataset, converters = converters)\n",
    "\n",
    "df = pd.DataFrame(data)"
   ]
  },
  {
   "cell_type": "markdown",
   "metadata": {},
   "source": [
    "## Assess"
   ]
  },
  {
   "cell_type": "code",
   "execution_count": 3,
   "metadata": {},
   "outputs": [
    {
     "data": {
      "text/html": [
       "<div>\n",
       "<style scoped>\n",
       "    .dataframe tbody tr th:only-of-type {\n",
       "        vertical-align: middle;\n",
       "    }\n",
       "\n",
       "    .dataframe tbody tr th {\n",
       "        vertical-align: top;\n",
       "    }\n",
       "\n",
       "    .dataframe thead th {\n",
       "        text-align: right;\n",
       "    }\n",
       "</style>\n",
       "<table border=\"1\" class=\"dataframe\">\n",
       "  <thead>\n",
       "    <tr style=\"text-align: right;\">\n",
       "      <th></th>\n",
       "      <th>Unnamed: 0</th>\n",
       "      <th>listing_id</th>\n",
       "      <th>state</th>\n",
       "      <th>user_id</th>\n",
       "      <th>category_id</th>\n",
       "      <th>title</th>\n",
       "      <th>description</th>\n",
       "      <th>creation_tsz</th>\n",
       "      <th>ending_tsz</th>\n",
       "      <th>original_creation_tsz</th>\n",
       "      <th>...</th>\n",
       "      <th>is_customizable</th>\n",
       "      <th>is_digital</th>\n",
       "      <th>file_data</th>\n",
       "      <th>should_auto_renew</th>\n",
       "      <th>language</th>\n",
       "      <th>has_variations</th>\n",
       "      <th>taxonomy_id</th>\n",
       "      <th>taxonomy_path</th>\n",
       "      <th>used_manufacturer</th>\n",
       "      <th>is_vintage</th>\n",
       "    </tr>\n",
       "  </thead>\n",
       "  <tbody>\n",
       "    <tr>\n",
       "      <th>0</th>\n",
       "      <td>0</td>\n",
       "      <td>742705844</td>\n",
       "      <td>active</td>\n",
       "      <td>89559032</td>\n",
       "      <td>NaN</td>\n",
       "      <td>Poppy Flower, 12 Peach Crepe Paper Poppies, Pa...</td>\n",
       "      <td>Important Holiday Deadlines\\nAs of today (11/2...</td>\n",
       "      <td>1606608041</td>\n",
       "      <td>1616972441</td>\n",
       "      <td>1574724686</td>\n",
       "      <td>...</td>\n",
       "      <td>True</td>\n",
       "      <td>False</td>\n",
       "      <td>NaN</td>\n",
       "      <td>True</td>\n",
       "      <td>en-US</td>\n",
       "      <td>False</td>\n",
       "      <td>1299</td>\n",
       "      <td>['Paper &amp; Party Supplies', 'Paper', 'Origami',...</td>\n",
       "      <td>False</td>\n",
       "      <td>False</td>\n",
       "    </tr>\n",
       "    <tr>\n",
       "      <th>1</th>\n",
       "      <td>1</td>\n",
       "      <td>707163831</td>\n",
       "      <td>active</td>\n",
       "      <td>5945447</td>\n",
       "      <td>NaN</td>\n",
       "      <td>Downloadable Crepe Paper Orchid Template/PDF P...</td>\n",
       "      <td>Make your own crepe paper orchids using this d...</td>\n",
       "      <td>1606607709</td>\n",
       "      <td>1616972109</td>\n",
       "      <td>1558137436</td>\n",
       "      <td>...</td>\n",
       "      <td>False</td>\n",
       "      <td>True</td>\n",
       "      <td>2 PDF</td>\n",
       "      <td>False</td>\n",
       "      <td>en-US</td>\n",
       "      <td>False</td>\n",
       "      <td>1299</td>\n",
       "      <td>['Paper &amp; Party Supplies', 'Paper', 'Origami',...</td>\n",
       "      <td>False</td>\n",
       "      <td>False</td>\n",
       "    </tr>\n",
       "    <tr>\n",
       "      <th>2</th>\n",
       "      <td>2</td>\n",
       "      <td>911675611</td>\n",
       "      <td>active</td>\n",
       "      <td>32178173</td>\n",
       "      <td>NaN</td>\n",
       "      <td>5 Red Mulberry Paper Ribbons pressed in rolls ...</td>\n",
       "      <td>Saa Mulberry Paper Ribbons \\n\\nContains: 5 rol...</td>\n",
       "      <td>1606605751</td>\n",
       "      <td>1616970151</td>\n",
       "      <td>1606311789</td>\n",
       "      <td>...</td>\n",
       "      <td>True</td>\n",
       "      <td>False</td>\n",
       "      <td>NaN</td>\n",
       "      <td>False</td>\n",
       "      <td>en-US</td>\n",
       "      <td>False</td>\n",
       "      <td>6606</td>\n",
       "      <td>['Craft Supplies &amp; Tools', 'Party &amp; Gifting', ...</td>\n",
       "      <td>False</td>\n",
       "      <td>False</td>\n",
       "    </tr>\n",
       "    <tr>\n",
       "      <th>3</th>\n",
       "      <td>3</td>\n",
       "      <td>60079349</td>\n",
       "      <td>active</td>\n",
       "      <td>21841</td>\n",
       "      <td>NaN</td>\n",
       "      <td>Handmade Crepe Grass Green Fringe</td>\n",
       "      <td>Made from grass green crepe paper, this ultra-...</td>\n",
       "      <td>1606604287</td>\n",
       "      <td>1616968687</td>\n",
       "      <td>1288183624</td>\n",
       "      <td>...</td>\n",
       "      <td>True</td>\n",
       "      <td>False</td>\n",
       "      <td>NaN</td>\n",
       "      <td>False</td>\n",
       "      <td>en-US</td>\n",
       "      <td>False</td>\n",
       "      <td>562</td>\n",
       "      <td>['Craft Supplies &amp; Tools']</td>\n",
       "      <td>False</td>\n",
       "      <td>False</td>\n",
       "    </tr>\n",
       "    <tr>\n",
       "      <th>4</th>\n",
       "      <td>4</td>\n",
       "      <td>161814267</td>\n",
       "      <td>active</td>\n",
       "      <td>21841</td>\n",
       "      <td>NaN</td>\n",
       "      <td>Handmade Crepe Fringe - Navy Blue</td>\n",
       "      <td>Made from navy blue crepe paper, this fringe t...</td>\n",
       "      <td>1606604239</td>\n",
       "      <td>1616968639</td>\n",
       "      <td>1378423060</td>\n",
       "      <td>...</td>\n",
       "      <td>True</td>\n",
       "      <td>False</td>\n",
       "      <td>NaN</td>\n",
       "      <td>False</td>\n",
       "      <td>en-US</td>\n",
       "      <td>False</td>\n",
       "      <td>562</td>\n",
       "      <td>['Craft Supplies &amp; Tools']</td>\n",
       "      <td>False</td>\n",
       "      <td>False</td>\n",
       "    </tr>\n",
       "  </tbody>\n",
       "</table>\n",
       "<p>5 rows × 50 columns</p>\n",
       "</div>"
      ],
      "text/plain": [
       "   Unnamed: 0  listing_id   state   user_id  category_id  \\\n",
       "0           0   742705844  active  89559032          NaN   \n",
       "1           1   707163831  active   5945447          NaN   \n",
       "2           2   911675611  active  32178173          NaN   \n",
       "3           3    60079349  active     21841          NaN   \n",
       "4           4   161814267  active     21841          NaN   \n",
       "\n",
       "                                               title  \\\n",
       "0  Poppy Flower, 12 Peach Crepe Paper Poppies, Pa...   \n",
       "1  Downloadable Crepe Paper Orchid Template/PDF P...   \n",
       "2  5 Red Mulberry Paper Ribbons pressed in rolls ...   \n",
       "3                  Handmade Crepe Grass Green Fringe   \n",
       "4                  Handmade Crepe Fringe - Navy Blue   \n",
       "\n",
       "                                         description  creation_tsz  \\\n",
       "0  Important Holiday Deadlines\\nAs of today (11/2...    1606608041   \n",
       "1  Make your own crepe paper orchids using this d...    1606607709   \n",
       "2  Saa Mulberry Paper Ribbons \\n\\nContains: 5 rol...    1606605751   \n",
       "3  Made from grass green crepe paper, this ultra-...    1606604287   \n",
       "4  Made from navy blue crepe paper, this fringe t...    1606604239   \n",
       "\n",
       "   ending_tsz  original_creation_tsz  ...  is_customizable  is_digital  \\\n",
       "0  1616972441             1574724686  ...             True       False   \n",
       "1  1616972109             1558137436  ...            False        True   \n",
       "2  1616970151             1606311789  ...             True       False   \n",
       "3  1616968687             1288183624  ...             True       False   \n",
       "4  1616968639             1378423060  ...             True       False   \n",
       "\n",
       "  file_data  should_auto_renew language has_variations taxonomy_id  \\\n",
       "0       NaN               True    en-US          False        1299   \n",
       "1     2 PDF              False    en-US          False        1299   \n",
       "2       NaN              False    en-US          False        6606   \n",
       "3       NaN              False    en-US          False         562   \n",
       "4       NaN              False    en-US          False         562   \n",
       "\n",
       "                                       taxonomy_path  used_manufacturer  \\\n",
       "0  ['Paper & Party Supplies', 'Paper', 'Origami',...              False   \n",
       "1  ['Paper & Party Supplies', 'Paper', 'Origami',...              False   \n",
       "2  ['Craft Supplies & Tools', 'Party & Gifting', ...              False   \n",
       "3                         ['Craft Supplies & Tools']              False   \n",
       "4                         ['Craft Supplies & Tools']              False   \n",
       "\n",
       "   is_vintage  \n",
       "0       False  \n",
       "1       False  \n",
       "2       False  \n",
       "3       False  \n",
       "4       False  \n",
       "\n",
       "[5 rows x 50 columns]"
      ]
     },
     "execution_count": 3,
     "metadata": {},
     "output_type": "execute_result"
    }
   ],
   "source": [
    "df.head()"
   ]
  },
  {
   "cell_type": "code",
   "execution_count": 4,
   "metadata": {},
   "outputs": [
    {
     "name": "stdout",
     "output_type": "stream",
     "text": [
      "<class 'pandas.core.frame.DataFrame'>\n",
      "RangeIndex: 5300 entries, 0 to 5299\n",
      "Data columns (total 50 columns):\n",
      " #   Column                 Non-Null Count  Dtype  \n",
      "---  ------                 --------------  -----  \n",
      " 0   Unnamed: 0             5300 non-null   int64  \n",
      " 1   listing_id             5300 non-null   int64  \n",
      " 2   state                  5300 non-null   object \n",
      " 3   user_id                5300 non-null   int64  \n",
      " 4   category_id            0 non-null      float64\n",
      " 5   title                  5300 non-null   object \n",
      " 6   description            5300 non-null   object \n",
      " 7   creation_tsz           5300 non-null   int64  \n",
      " 8   ending_tsz             5300 non-null   int64  \n",
      " 9   original_creation_tsz  5300 non-null   int64  \n",
      " 10  last_modified_tsz      5300 non-null   int64  \n",
      " 11  price                  5300 non-null   float64\n",
      " 12  currency_code          5300 non-null   object \n",
      " 13  quantity               5300 non-null   int64  \n",
      " 14  sku                    5300 non-null   object \n",
      " 15  tags                   5300 non-null   object \n",
      " 16  materials              5300 non-null   object \n",
      " 17  shop_section_id        4345 non-null   float64\n",
      " 18  featured_rank          277 non-null    float64\n",
      " 19  state_tsz              5300 non-null   int64  \n",
      " 20  url                    5300 non-null   object \n",
      " 21  views                  5300 non-null   int64  \n",
      " 22  num_favorers           5300 non-null   int64  \n",
      " 23  shipping_template_id   2968 non-null   float64\n",
      " 24  processing_min         4989 non-null   float64\n",
      " 25  processing_max         4989 non-null   float64\n",
      " 26  who_made               5300 non-null   object \n",
      " 27  is_supply              5300 non-null   bool   \n",
      " 28  when_made              5300 non-null   object \n",
      " 29  item_weight            1276 non-null   float64\n",
      " 30  item_weight_unit       5147 non-null   object \n",
      " 31  item_length            1220 non-null   float64\n",
      " 32  item_width             1220 non-null   float64\n",
      " 33  item_height            1220 non-null   float64\n",
      " 34  item_dimensions_unit   5147 non-null   object \n",
      " 35  is_private             5300 non-null   bool   \n",
      " 36  recipient              1084 non-null   object \n",
      " 37  occasion               609 non-null    object \n",
      " 38  style                  1383 non-null   object \n",
      " 39  non_taxable            5300 non-null   bool   \n",
      " 40  is_customizable        5300 non-null   bool   \n",
      " 41  is_digital             5300 non-null   bool   \n",
      " 42  file_data              142 non-null    object \n",
      " 43  should_auto_renew      5300 non-null   bool   \n",
      " 44  language               5300 non-null   object \n",
      " 45  has_variations         5300 non-null   bool   \n",
      " 46  taxonomy_id            5300 non-null   int64  \n",
      " 47  taxonomy_path          5300 non-null   object \n",
      " 48  used_manufacturer      5300 non-null   bool   \n",
      " 49  is_vintage             5300 non-null   bool   \n",
      "dtypes: bool(9), float64(11), int64(12), object(18)\n",
      "memory usage: 1.7+ MB\n"
     ]
    }
   ],
   "source": [
    "df.info()"
   ]
  },
  {
   "cell_type": "markdown",
   "metadata": {},
   "source": [
    "- **'Unnamed: 0 ' is the unique_id**\n",
    "- **Duplicate records**\n",
    "- **Non-USD records**"
   ]
  },
  {
   "cell_type": "code",
   "execution_count": 5,
   "metadata": {},
   "outputs": [
    {
     "data": {
      "text/plain": [
       "Index(['Unnamed: 0', 'listing_id', 'state', 'user_id', 'category_id', 'title',\n",
       "       'description', 'creation_tsz', 'ending_tsz', 'original_creation_tsz',\n",
       "       'last_modified_tsz', 'price', 'currency_code', 'quantity', 'sku',\n",
       "       'tags', 'materials', 'shop_section_id', 'featured_rank', 'state_tsz',\n",
       "       'url', 'views', 'num_favorers', 'shipping_template_id',\n",
       "       'processing_min', 'processing_max', 'who_made', 'is_supply',\n",
       "       'when_made', 'item_weight', 'item_weight_unit', 'item_length',\n",
       "       'item_width', 'item_height', 'item_dimensions_unit', 'is_private',\n",
       "       'recipient', 'occasion', 'style', 'non_taxable', 'is_customizable',\n",
       "       'is_digital', 'file_data', 'should_auto_renew', 'language',\n",
       "       'has_variations', 'taxonomy_id', 'taxonomy_path', 'used_manufacturer',\n",
       "       'is_vintage'],\n",
       "      dtype='object')"
      ]
     },
     "execution_count": 5,
     "metadata": {},
     "output_type": "execute_result"
    }
   ],
   "source": [
    "df.columns"
   ]
  },
  {
   "cell_type": "code",
   "execution_count": 6,
   "metadata": {},
   "outputs": [
    {
     "data": {
      "text/plain": [
       "False    4815\n",
       "True      485\n",
       "Name: is_vintage, dtype: int64"
      ]
     },
     "execution_count": 6,
     "metadata": {},
     "output_type": "execute_result"
    }
   ],
   "source": [
    "# Cycle through all columns to inspect of they are relevant to the analysis\n",
    "df['is_vintage'].value_counts()"
   ]
  },
  {
   "cell_type": "code",
   "execution_count": 7,
   "metadata": {},
   "outputs": [
    {
     "data": {
      "text/html": [
       "<div>\n",
       "<style scoped>\n",
       "    .dataframe tbody tr th:only-of-type {\n",
       "        vertical-align: middle;\n",
       "    }\n",
       "\n",
       "    .dataframe tbody tr th {\n",
       "        vertical-align: top;\n",
       "    }\n",
       "\n",
       "    .dataframe thead th {\n",
       "        text-align: right;\n",
       "    }\n",
       "</style>\n",
       "<table border=\"1\" class=\"dataframe\">\n",
       "  <thead>\n",
       "    <tr style=\"text-align: right;\">\n",
       "      <th></th>\n",
       "      <th>title</th>\n",
       "      <th>description</th>\n",
       "      <th>when_made</th>\n",
       "    </tr>\n",
       "  </thead>\n",
       "  <tbody>\n",
       "    <tr>\n",
       "      <th>0</th>\n",
       "      <td>Poppy Flower, 12 Peach Crepe Paper Poppies, Pa...</td>\n",
       "      <td>Important Holiday Deadlines\\nAs of today (11/2...</td>\n",
       "      <td>made_to_order</td>\n",
       "    </tr>\n",
       "    <tr>\n",
       "      <th>2</th>\n",
       "      <td>5 Red Mulberry Paper Ribbons pressed in rolls ...</td>\n",
       "      <td>Saa Mulberry Paper Ribbons \\n\\nContains: 5 rol...</td>\n",
       "      <td>2020_2020</td>\n",
       "    </tr>\n",
       "    <tr>\n",
       "      <th>3</th>\n",
       "      <td>Handmade Crepe Grass Green Fringe</td>\n",
       "      <td>Made from grass green crepe paper, this ultra-...</td>\n",
       "      <td>2020_2020</td>\n",
       "    </tr>\n",
       "    <tr>\n",
       "      <th>4</th>\n",
       "      <td>Handmade Crepe Fringe - Navy Blue</td>\n",
       "      <td>Made from navy blue crepe paper, this fringe t...</td>\n",
       "      <td>made_to_order</td>\n",
       "    </tr>\n",
       "    <tr>\n",
       "      <th>13</th>\n",
       "      <td>Paper Flowers Wall, Nursery Wall Decor, Nurser...</td>\n",
       "      <td>Paper flowers for nursery wall decor will turn...</td>\n",
       "      <td>made_to_order</td>\n",
       "    </tr>\n",
       "    <tr>\n",
       "      <th>...</th>\n",
       "      <td>...</td>\n",
       "      <td>...</td>\n",
       "      <td>...</td>\n",
       "    </tr>\n",
       "    <tr>\n",
       "      <th>5278</th>\n",
       "      <td>Red giant paper self-standing rose with stem &amp;...</td>\n",
       "      <td>This wonderful rose is absolutely on point: go...</td>\n",
       "      <td>made_to_order</td>\n",
       "    </tr>\n",
       "    <tr>\n",
       "      <th>5279</th>\n",
       "      <td>Handmade Crepe Fringe -- Shiny Gold</td>\n",
       "      <td>Made from the most awesome shiny gold crepe pa...</td>\n",
       "      <td>made_to_order</td>\n",
       "    </tr>\n",
       "    <tr>\n",
       "      <th>5291</th>\n",
       "      <td>Art Deco Valentine with Puffy Heart</td>\n",
       "      <td>This is an excellent example of Nouveau style....</td>\n",
       "      <td>1910s</td>\n",
       "    </tr>\n",
       "    <tr>\n",
       "      <th>5293</th>\n",
       "      <td>Giant Paper Flower with Stem | Huge Paper Peon...</td>\n",
       "      <td>It would be perfect, stunning paper flower wil...</td>\n",
       "      <td>made_to_order</td>\n",
       "    </tr>\n",
       "    <tr>\n",
       "      <th>5297</th>\n",
       "      <td>Spring Crepe and Cardstock Floral set-Local pi...</td>\n",
       "      <td>This floral set sings Spring is in the air! \\n...</td>\n",
       "      <td>made_to_order</td>\n",
       "    </tr>\n",
       "  </tbody>\n",
       "</table>\n",
       "<p>2374 rows × 3 columns</p>\n",
       "</div>"
      ],
      "text/plain": [
       "                                                  title  \\\n",
       "0     Poppy Flower, 12 Peach Crepe Paper Poppies, Pa...   \n",
       "2     5 Red Mulberry Paper Ribbons pressed in rolls ...   \n",
       "3                     Handmade Crepe Grass Green Fringe   \n",
       "4                     Handmade Crepe Fringe - Navy Blue   \n",
       "13    Paper Flowers Wall, Nursery Wall Decor, Nurser...   \n",
       "...                                                 ...   \n",
       "5278  Red giant paper self-standing rose with stem &...   \n",
       "5279                Handmade Crepe Fringe -- Shiny Gold   \n",
       "5291                Art Deco Valentine with Puffy Heart   \n",
       "5293  Giant Paper Flower with Stem | Huge Paper Peon...   \n",
       "5297  Spring Crepe and Cardstock Floral set-Local pi...   \n",
       "\n",
       "                                            description      when_made  \n",
       "0     Important Holiday Deadlines\\nAs of today (11/2...  made_to_order  \n",
       "2     Saa Mulberry Paper Ribbons \\n\\nContains: 5 rol...      2020_2020  \n",
       "3     Made from grass green crepe paper, this ultra-...      2020_2020  \n",
       "4     Made from navy blue crepe paper, this fringe t...  made_to_order  \n",
       "13    Paper flowers for nursery wall decor will turn...  made_to_order  \n",
       "...                                                 ...            ...  \n",
       "5278  This wonderful rose is absolutely on point: go...  made_to_order  \n",
       "5279  Made from the most awesome shiny gold crepe pa...  made_to_order  \n",
       "5291  This is an excellent example of Nouveau style....          1910s  \n",
       "5293  It would be perfect, stunning paper flower wil...  made_to_order  \n",
       "5297  This floral set sings Spring is in the air! \\n...  made_to_order  \n",
       "\n",
       "[2374 rows x 3 columns]"
      ]
     },
     "execution_count": 7,
     "metadata": {},
     "output_type": "execute_result"
    }
   ],
   "source": [
    "df[df.is_customizable == True].loc[:,['title','description','when_made']]"
   ]
  },
  {
   "cell_type": "markdown",
   "metadata": {},
   "source": [
    "- **Irrelevant columns:**\n",
    "    - \"active\" (these are all active listings)\n",
    "    - \"category_id\" (all null data)\n",
    "    - \"creation_tsz\" (\n",
    "    - \"ending_tsz\"\n",
    "    - \"original_creation_tsz\"\n",
    "    - \"last_modified_tsz\"\n",
    "    - \"sku\"\n",
    "    - \"shop_section_id\"\n",
    "    - \"featured_rank\"\n",
    "    - \"state_tsz\"\n",
    "    - \"shipping_template_id\"\n",
    "    - \"processing_min\"\n",
    "    - \"processing_max\"\n",
    "    - \"is_supply\"\n",
    "    - \"item_weight\"\n",
    "    - \"item_length\"\n",
    "    - \"item_width\"\n",
    "    - \"item_height\"\n",
    "    - \"item_dimensions_unit\"\n",
    "    - \"is_private\"\n",
    "    - \"non_taxable\"\n",
    "    - \"is_customizable\"\n",
    "    - \"is_digital\"\n",
    "    - \"file_data\"\n",
    "    - \"should_auto_renew\"\n",
    "    - \"language\"\n",
    "    - \"has_variations\"\n",
    "    - \"taxonomy_id\"\n",
    "    - \"used_manufacturer\""
   ]
  },
  {
   "cell_type": "code",
   "execution_count": null,
   "metadata": {},
   "outputs": [],
   "source": [
    "df[\"tags\"].value_counts()"
   ]
  },
  {
   "cell_type": "code",
   "execution_count": null,
   "metadata": {},
   "outputs": [],
   "source": [
    "df['materials'].value_counts()"
   ]
  },
  {
   "cell_type": "code",
   "execution_count": null,
   "metadata": {},
   "outputs": [],
   "source": [
    "df['style'].value_counts()"
   ]
  },
  {
   "cell_type": "markdown",
   "metadata": {},
   "source": [
    "- **The \"tags\",\"materials\", and \"style\" columns contain lists and should be separate tables.**"
   ]
  },
  {
   "cell_type": "code",
   "execution_count": null,
   "metadata": {},
   "outputs": [],
   "source": [
    "df.describe()"
   ]
  },
  {
   "cell_type": "code",
   "execution_count": null,
   "metadata": {},
   "outputs": [],
   "source": [
    "df[df.price == df.price.max()][['price','title','description','url']]"
   ]
  },
  {
   "cell_type": "code",
   "execution_count": null,
   "metadata": {},
   "outputs": [],
   "source": [
    "df[df.price == df.price.max()]"
   ]
  },
  {
   "cell_type": "code",
   "execution_count": null,
   "metadata": {},
   "outputs": [],
   "source": [
    "df[df.price == df.price.max()]['url']"
   ]
  },
  {
   "cell_type": "code",
   "execution_count": null,
   "metadata": {},
   "outputs": [],
   "source": [
    "df[df.currency_code == 'USD'].describe()"
   ]
  },
  {
   "cell_type": "code",
   "execution_count": null,
   "metadata": {},
   "outputs": [],
   "source": [
    "df_usd = df[(df.currency_code == 'USD')]\n",
    "df_usd[df_usd.price == df_usd.price.max()]['url']"
   ]
  },
  {
   "cell_type": "code",
   "execution_count": null,
   "metadata": {},
   "outputs": [],
   "source": [
    "df_usd.sort_values('price')['price'].tail(10)"
   ]
  },
  {
   "cell_type": "code",
   "execution_count": null,
   "metadata": {},
   "outputs": [],
   "source": [
    "plt.figure(figsize = [20,5])\n",
    "\n",
    "bins = np.arange(0,5000,25)\n",
    "\n",
    "plt.subplot(1,3,1)\n",
    "plt.hist(x = df_usd.price, bins = bins)\n",
    "\n",
    "plt.subplot(1,3,2)\n",
    "plt.hist(x = df_usd.price, bins = bins)\n",
    "plt.xlim(1,2000)\n",
    "\n",
    "plt.subplot(1,3,3)\n",
    "plt.hist(x = df_usd.price, bins = bins)\n",
    "plt.xlim(1,1000)\n",
    "         \n",
    ";"
   ]
  },
  {
   "cell_type": "markdown",
   "metadata": {},
   "source": [
    "The price data is right skewed but not strongly enough to justify excluding the $4,999 listing from the dataset. It will just justify taking median measures of prices instead of averages."
   ]
  },
  {
   "cell_type": "markdown",
   "metadata": {},
   "source": [
    "## Plan"
   ]
  },
  {
   "cell_type": "markdown",
   "metadata": {},
   "source": [
    "### Cleaning Tasks:\n",
    "\n",
    "1. 'Unnamed: 0 ' is the unique_id\n",
    "2. Duplicate records\n",
    "3. Non-USD records\n",
    "4. Irrelevant columns:\n",
    "    - \"active\" (these are all active listings)\n",
    "    - \"category_id\" (all null data)\n",
    "    - \"creation_tsz\" (\n",
    "    - \"ending_tsz\"\n",
    "    - \"original_creation_tsz\"\n",
    "    - \"last_modified_tsz\"\n",
    "    - \"sku\"\n",
    "    - \"shop_section_id\"\n",
    "    - \"featured_rank\"\n",
    "    - \"state_tsz\"\n",
    "    - \"shipping_template_id\"\n",
    "    - \"processing_min\"\n",
    "    - \"processing_max\"\n",
    "    - \"is_supply\"\n",
    "    - \"item_weight\"\n",
    "    - \"item_length\"\n",
    "    - \"item_width\"\n",
    "    - \"item_height\"\n",
    "    - \"item_dimensions_unit\"\n",
    "    - \"is_private\"\n",
    "    - \"non_taxable\"\n",
    "    - \"is_customizable\"\n",
    "    - \"is_digital\"\n",
    "    - \"file_data\"\n",
    "    - \"should_auto_renew\"\n",
    "    - \"language\"\n",
    "    - \"has_variations\"\n",
    "    - \"taxonomy_id\"\n",
    "    - \"used_manufacturer\"\n",
    "5. The \"tags\",\"materials\", and \"style\" columns contain lists and should be separate tables."
   ]
  },
  {
   "cell_type": "markdown",
   "metadata": {},
   "source": [
    "## Clean"
   ]
  },
  {
   "cell_type": "code",
   "execution_count": null,
   "metadata": {},
   "outputs": [],
   "source": [
    "listings_main = df.copy()"
   ]
  },
  {
   "cell_type": "markdown",
   "metadata": {},
   "source": [
    "#### Change 'Unnamed: 0 ' column to 'main_id'"
   ]
  },
  {
   "cell_type": "code",
   "execution_count": null,
   "metadata": {},
   "outputs": [],
   "source": [
    "listings_main.rename(columns = {'Unnamed: 0':'main_id'}, inplace = True)\n",
    "listings_main.head(2)"
   ]
  },
  {
   "cell_type": "markdown",
   "metadata": {},
   "source": [
    "#### Remove non-USD records"
   ]
  },
  {
   "cell_type": "code",
   "execution_count": null,
   "metadata": {},
   "outputs": [],
   "source": [
    "listings_main = listings_main.query('currency_code == \"USD\"')\n",
    "listings_main.currency_code.value_counts()"
   ]
  },
  {
   "cell_type": "markdown",
   "metadata": {},
   "source": [
    "#### Remove irrelevant columns"
   ]
  },
  {
   "cell_type": "code",
   "execution_count": null,
   "metadata": {},
   "outputs": [],
   "source": [
    "drop = ['state','category_id', 'creation_tsz','ending_tsz','original_creation_tsz', 'last_modified_tsz', \n",
    "        'sku', 'shop_section_id', 'featured_rank','state_tsz','shipping_template_id',\n",
    "        'processing_min','processing_max','is_supply','item_weight','item_length','item_width',\n",
    "        'item_height','item_dimensions_unit','is_private','non_taxable','is_customizable',\n",
    "        'is_digital','file_data', 'should_auto_renew', 'language', 'has_variations', 'taxonomy_id', \n",
    "        'used_manufacturer']\n",
    "\n",
    "listings_main = listings_main.drop(labels = drop, axis = 1)\n",
    "listings_main.head(2)"
   ]
  },
  {
   "cell_type": "code",
   "execution_count": null,
   "metadata": {},
   "outputs": [],
   "source": [
    "listings_main.columns"
   ]
  },
  {
   "cell_type": "markdown",
   "metadata": {},
   "source": [
    "#### Remove \"tags\",\"materials\", and \"style\" columns, and save to seperate tables"
   ]
  },
  {
   "cell_type": "code",
   "execution_count": null,
   "metadata": {},
   "outputs": [],
   "source": [
    "# Create intermediate separate tables\n",
    "listings_tags = listings_main.loc[:,['main_id','tags']]\n",
    "listings_materials = listings_main.loc[:,['main_id','materials']]\n",
    "listings_style = listings_main.loc[:,['main_id','style']]\n",
    "\n",
    "# Explode lists within each row and redefine tables\n",
    "explode_tags = listings_tags.explode('tags')\n",
    "listings_tags = pd.DataFrame(explode_tags)\n",
    "\n",
    "explode_materials = listings_materials.explode('materials')\n",
    "listings_materials = pd.DataFrame(explode_materials)\n",
    "\n",
    "explode_style = listings_style.explode('style')\n",
    "listings_style = pd.DataFrame(explode_style)\n",
    "\n",
    "# Drop null data\n",
    "listings_tags = listings_tags.dropna()\n",
    "listings_materials = listings_materials.dropna()\n",
    "listings_style = listings_style.dropna()\n",
    "\n",
    "# Drop columns from main listing table\n",
    "listings_main = listings_main.drop(labels = ['tags','materials','style'], axis = 1)"
   ]
  },
  {
   "cell_type": "code",
   "execution_count": null,
   "metadata": {},
   "outputs": [],
   "source": [
    "listings_tags.head(3)"
   ]
  },
  {
   "cell_type": "code",
   "execution_count": null,
   "metadata": {},
   "outputs": [],
   "source": [
    "listings_materials.head(3)"
   ]
  },
  {
   "cell_type": "code",
   "execution_count": null,
   "metadata": {},
   "outputs": [],
   "source": [
    "listings_style.head(3)"
   ]
  },
  {
   "cell_type": "markdown",
   "metadata": {},
   "source": [
    "#### Remove duplicate records"
   ]
  },
  {
   "cell_type": "code",
   "execution_count": null,
   "metadata": {},
   "outputs": [],
   "source": [
    "listings_main = listings_main.drop_duplicates()\n",
    "listings_main[listings_main.duplicated()]"
   ]
  },
  {
   "cell_type": "markdown",
   "metadata": {},
   "source": [
    "## Save Clean Datasets"
   ]
  },
  {
   "cell_type": "code",
   "execution_count": null,
   "metadata": {},
   "outputs": [],
   "source": [
    "listings_main.to_csv(\"/Users/kristinafrazier/documents/projects/etsy/data/nov_2020/listings_main.csv\")\n",
    "listings_materials.to_csv(\"/Users/kristinafrazier/documents/projects/etsy/data/nov_2020/listings_materials.csv\")\n",
    "listings_tags.to_csv(\"/Users/kristinafrazier/documents/projects/etsy/data/nov_2020/listings_tags.csv\")\n",
    "listings_style.to_csv(\"/Users/kristinafrazier/documents/projects/etsy/data/nov_2020/listings_style.csv\")"
   ]
  },
  {
   "cell_type": "code",
   "execution_count": null,
   "metadata": {},
   "outputs": [],
   "source": []
  }
 ],
 "metadata": {
  "kernelspec": {
   "display_name": "Python 3",
   "language": "python",
   "name": "python3"
  },
  "language_info": {
   "codemirror_mode": {
    "name": "ipython",
    "version": 3
   },
   "file_extension": ".py",
   "mimetype": "text/x-python",
   "name": "python",
   "nbconvert_exporter": "python",
   "pygments_lexer": "ipython3",
   "version": "3.7.7"
  }
 },
 "nbformat": 4,
 "nbformat_minor": 4
}
